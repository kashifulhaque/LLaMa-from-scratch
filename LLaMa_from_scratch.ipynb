{
 "cells": [
  {
   "cell_type": "markdown",
   "metadata": {
    "id": "1xHdSd1W0gcR"
   },
   "source": [
    "#### **Implement LLaMa from scratch**\n",
    "> Based on this [blog post](https://blog.briankitano.com/llama-from-scratch)\n",
    "\n",
    "<a target=\"_blank\" href=\"https://colab.research.google.com/github/kashifulhaque/LLaMa-from-scratch/blob/main/LLaMa_from_scratch.ipynb\">\n",
    "  <img src=\"https://colab.research.google.com/assets/colab-badge.svg\" alt=\"Open In Colab\"/>\n",
    "</a>"
   ]
  },
  {
   "cell_type": "code",
   "execution_count": 1,
   "metadata": {
    "id": "m_Z7khvk0csm"
   },
   "outputs": [],
   "source": [
    "import time\n",
    "\n",
    "import torch\n",
    "import numpy as np\n",
    "import pandas as pd\n",
    "import matplotlib.pyplot as plt\n",
    "\n",
    "from torch import nn\n",
    "from torch.nn import functional as F"
   ]
  },
  {
   "cell_type": "markdown",
   "metadata": {
    "id": "jwFfH7ys07kx"
   },
   "source": [
    "**Load the dataset**\n",
    "> [TinyShakespeare](https://raw.githubusercontent.com/karpathy/char-rnn/master/data/tinyshakespeare/input.txt)"
   ]
  },
  {
   "cell_type": "code",
   "execution_count": 2,
   "metadata": {
    "colab": {
     "base_uri": "https://localhost:8080/"
    },
    "id": "xtmQ85dd02HM",
    "outputId": "69a1befb-802c-41ef-8bcc-e854c3279ed6"
   },
   "outputs": [
    {
     "name": "stdout",
     "output_type": "stream",
     "text": [
      "First Citizen:\n",
      "Before we proceed any further, hear\n"
     ]
    }
   ],
   "source": [
    "dataset_url = 'https://raw.githubusercontent.com/karpathy/char-rnn/master/data/tinyshakespeare/input.txt'\n",
    "file_url = './dataset.txt' # Download and place your file in colab\n",
    "\n",
    "lines = open(file_url, 'r').read()\n",
    "\n",
    "vocab = sorted(list(set(lines)))\n",
    "i2s = { i: ch for i, ch in enumerate(vocab) }\n",
    "s2i = { ch: i for i, ch in enumerate(vocab) }\n",
    "\n",
    "print(lines[:50])"
   ]
  },
  {
   "cell_type": "markdown",
   "metadata": {
    "id": "tshD9AZN1mZm"
   },
   "source": [
    "In LLaMa, they use [SentencePiece](https://github.com/google/sentencepiece) byte-pair tokenizer, a simple tokenizer 👇"
   ]
  },
  {
   "cell_type": "code",
   "execution_count": 3,
   "metadata": {
    "id": "_DauIE9T1wLh"
   },
   "outputs": [],
   "source": [
    "def encode(s):\n",
    "  return [ s2i[ch] for ch in s ]"
   ]
  },
  {
   "cell_type": "code",
   "execution_count": 4,
   "metadata": {
    "id": "Y6QAN2Rx2LxY"
   },
   "outputs": [],
   "source": [
    "def decode(l):\n",
    "  return ''.join([ i2s[i] for i in l ])"
   ]
  },
  {
   "cell_type": "code",
   "execution_count": 5,
   "metadata": {
    "colab": {
     "base_uri": "https://localhost:8080/"
    },
    "id": "31VugpID2RbX",
    "outputId": "33f02051-dbe4-4ce7-e061-af63e87e369d"
   },
   "outputs": [
    {
     "name": "stdout",
     "output_type": "stream",
     "text": [
      "vocab size: 65\n"
     ]
    }
   ],
   "source": [
    "print(f'vocab size: {len(vocab)}')"
   ]
  },
  {
   "cell_type": "code",
   "execution_count": 6,
   "metadata": {
    "colab": {
     "base_uri": "https://localhost:8080/"
    },
    "id": "bnnq92tW2V6u",
    "outputId": "f23c2a05-b25e-4b41-85dc-0af097a8e112"
   },
   "outputs": [
    {
     "data": {
      "text/plain": [
       "[46, 43, 50, 50, 53]"
      ]
     },
     "execution_count": 6,
     "metadata": {},
     "output_type": "execute_result"
    }
   ],
   "source": [
    "encode('hello')"
   ]
  },
  {
   "cell_type": "code",
   "execution_count": 7,
   "metadata": {
    "colab": {
     "base_uri": "https://localhost:8080/",
     "height": 36
    },
    "id": "hX1nUD502W0m",
    "outputId": "ce223e0a-56f3-44f7-a1ba-c15e988d54da"
   },
   "outputs": [
    {
     "data": {
      "text/plain": [
       "'hello'"
      ]
     },
     "execution_count": 7,
     "metadata": {},
     "output_type": "execute_result"
    }
   ],
   "source": [
    "decode([46, 43, 50, 50, 53])"
   ]
  },
  {
   "cell_type": "markdown",
   "metadata": {
    "id": "QTio67nX2gag"
   },
   "source": [
    "**A `config` object to remove magic numbers and store constants, model params**"
   ]
  },
  {
   "cell_type": "code",
   "execution_count": 8,
   "metadata": {
    "id": "Gza2tRah2jwa"
   },
   "outputs": [],
   "source": [
    "MASTER_CONFIG = {\n",
    "    'vocab_size': len(vocab)\n",
    "}"
   ]
  },
  {
   "cell_type": "code",
   "execution_count": 9,
   "metadata": {
    "colab": {
     "base_uri": "https://localhost:8080/"
    },
    "id": "DUPIz5bM24tG",
    "outputId": "442b61c5-5d78-40b1-a803-c2d4ffdcd320"
   },
   "outputs": [
    {
     "data": {
      "text/plain": [
       "torch.Size([1115394])"
      ]
     },
     "execution_count": 9,
     "metadata": {},
     "output_type": "execute_result"
    }
   ],
   "source": [
    "dataset = torch.tensor(encode(lines), dtype = torch.int8)\n",
    "dataset.shape"
   ]
  },
  {
   "cell_type": "markdown",
   "metadata": {
    "id": "g2_obzFd3H_r"
   },
   "source": [
    "**Make a function to generate training data and labels for batches**"
   ]
  },
  {
   "cell_type": "code",
   "execution_count": 10,
   "metadata": {
    "id": "Ovn9Wwwu3x-s"
   },
   "outputs": [],
   "source": [
    "def get_batches(data, split, batch_size, context_window, config = MASTER_CONFIG):\n",
    "  train = data[:int(.8 * len(data))]                      # take first 80% of the data as training set\n",
    "  val = data[int(.8 * len(data)) : int(.9 * len(data))]   # take the next 10% of data as validation set\n",
    "  test = data[int(.9 * len(data)):]                       # take the last 10% of data as testing set\n",
    "\n",
    "  batch_data = train\n",
    "  if split == 'val':\n",
    "    batch_data = val\n",
    "  if split == 'test':\n",
    "    batch_data = test\n",
    "\n",
    "  # pick random starting points\n",
    "  ix = torch.randint(0, batch_data.size(0) - context_window - 1, (batch_size,))\n",
    "  x = torch.stack([batch_data[i : i + context_window] for i in ix]).long()\n",
    "  y = torch.stack([batch_data[i + 1 : i + context_window + 1] for i in ix]).long()\n",
    "\n",
    "  return x, y"
   ]
  },
  {
   "cell_type": "code",
   "execution_count": 11,
   "metadata": {
    "id": "fWx_CNKU4-8L"
   },
   "outputs": [],
   "source": [
    "MASTER_CONFIG.update({\n",
    "  'batch_size': 8,\n",
    "  'context_window': 16\n",
    "})"
   ]
  },
  {
   "cell_type": "code",
   "execution_count": 12,
   "metadata": {
    "colab": {
     "base_uri": "https://localhost:8080/"
    },
    "id": "D8epDXnX5KBy",
    "outputId": "37fc953c-35c3-4658-abd5-ad72c362ba9b"
   },
   "outputs": [
    {
     "data": {
      "text/plain": [
       "[(\"I'ld not do't; b\", \"'ld not do't; bu\"),\n",
       " ('Then strike up d', 'hen strike up dr'),\n",
       " ('gratitude,\\nAnd t', 'ratitude,\\nAnd te'),\n",
       " ('ve borne this bu', 'e borne this bus'),\n",
       " ('This dead king t', 'his dead king to'),\n",
       " ('eyes toward the ', 'yes toward the n'),\n",
       " ('morse\\nAs mine is', 'orse\\nAs mine is '),\n",
       " (' wife, that mons', 'wife, that monst')]"
      ]
     },
     "execution_count": 12,
     "metadata": {},
     "output_type": "execute_result"
    }
   ],
   "source": [
    "xs, ys = get_batches(\n",
    "  data = dataset,\n",
    "  split = 'train',\n",
    "  batch_size = MASTER_CONFIG['batch_size'],\n",
    "  context_window = MASTER_CONFIG['context_window']\n",
    ")\n",
    "\n",
    "[ (decode(xs[i].tolist()), decode(ys[i].tolist())) for i in range(len(xs)) ]"
   ]
  },
  {
   "cell_type": "markdown",
   "metadata": {
    "id": "BZHRqai66a7e"
   },
   "source": [
    "**Evaluation**"
   ]
  },
  {
   "cell_type": "code",
   "execution_count": 13,
   "metadata": {
    "id": "-9tT4b6e5h6b"
   },
   "outputs": [],
   "source": [
    "@torch.no_grad()\n",
    "def evaluate_loss(model, config = MASTER_CONFIG):\n",
    "  out = {}\n",
    "  model.eval()\n",
    "\n",
    "  for split in ['train', 'val']:\n",
    "    losses = []\n",
    "\n",
    "    for _ in range(10):\n",
    "      xb, yb = get_batches(\n",
    "        data = dataset,\n",
    "        split = split,\n",
    "        batch_size = config['batch_size'],\n",
    "        context_window = config['context_window']\n",
    "      )\n",
    "      _, loss = model(xb, yb)\n",
    "      losses.append(loss.item())\n",
    "\n",
    "    out[split] = np.mean(losses)\n",
    "\n",
    "  model.train()\n",
    "  return out"
   ]
  },
  {
   "cell_type": "markdown",
   "metadata": {
    "id": "GHGuELzh7Coy"
   },
   "source": [
    "#### **Setup a base model**\n",
    "\n",
    "In the `cross_entropy` loss line, we have to reshape the `logits` and `targets` so that their dimensions match when we compare. \\\\\n",
    "We do this using the `view` method, and the `-1` means \"infer this dimension from others\". \\\\\n",
    "\n",
    "So, reshape `logits` and `targets` to have the same number of rows and however many columns that are needed to make that happen."
   ]
  },
  {
   "cell_type": "code",
   "execution_count": 14,
   "metadata": {
    "id": "4uOXanPt7BZ9"
   },
   "outputs": [],
   "source": [
    "class SimpleModel(nn.Module):\n",
    "  def __init__(self, config = MASTER_CONFIG):\n",
    "    super().__init__()\n",
    "    self.config = config\n",
    "\n",
    "    self.embedding = nn.Embedding(config['vocab_size'], config['d_model'])\n",
    "    self.linear = nn.Sequential(\n",
    "      nn.Linear(config['d_model'], config['d_model']),\n",
    "      nn.ReLU(),\n",
    "\n",
    "      nn.Linear(config['d_model'], config['vocab_size'])\n",
    "    )\n",
    "    print(f'model params: {sum([m.numel() for m in self.parameters()])}')\n",
    "\n",
    "  def forward(self, idx, targets = None):\n",
    "    x = self.embedding(idx)\n",
    "    a = self.linear(x)\n",
    "    logits = F.softmax(a, dim = -1)\n",
    "\n",
    "    if targets is not None:\n",
    "      loss = F.cross_entropy(logits.view(-1, self.config['vocab_size']), targets.view(-1))\n",
    "      return logits, loss\n",
    "    else:\n",
    "      return logits"
   ]
  },
  {
   "cell_type": "code",
   "execution_count": 15,
   "metadata": {
    "id": "2FweSlaa77T5"
   },
   "outputs": [],
   "source": [
    "MASTER_CONFIG.update({\n",
    "  'd_model': 128\n",
    "})"
   ]
  },
  {
   "cell_type": "code",
   "execution_count": 16,
   "metadata": {
    "colab": {
     "base_uri": "https://localhost:8080/"
    },
    "id": "0T_ssTNp79oL",
    "outputId": "bddb8752-8aa8-40db-abb8-44b0bfe31937"
   },
   "outputs": [
    {
     "name": "stdout",
     "output_type": "stream",
     "text": [
      "model params: 33217\n"
     ]
    }
   ],
   "source": [
    "model = SimpleModel(MASTER_CONFIG)\n",
    "xs, ys = get_batches(\n",
    "  data = dataset,\n",
    "  split = 'train',\n",
    "  batch_size = MASTER_CONFIG['batch_size'],\n",
    "  context_window = MASTER_CONFIG['context_window']\n",
    ")\n",
    "\n",
    "logits, loss = model(xs, ys)"
   ]
  },
  {
   "cell_type": "markdown",
   "metadata": {
    "id": "-TNUIxVw85mD"
   },
   "source": [
    "**Train the model**"
   ]
  },
  {
   "cell_type": "code",
   "execution_count": 17,
   "metadata": {
    "id": "-i6RWTn_8TnO"
   },
   "outputs": [],
   "source": [
    "MASTER_CONFIG.update({\n",
    "  'epochs': 1_000,\n",
    "  'log_interval': 10,\n",
    "  'batch_size': 32\n",
    "})"
   ]
  },
  {
   "cell_type": "code",
   "execution_count": 18,
   "metadata": {
    "colab": {
     "base_uri": "https://localhost:8080/"
    },
    "id": "hY75mYvR9Aul",
    "outputId": "1dc27431-1a10-4713-e823-f272fd9db488"
   },
   "outputs": [
    {
     "name": "stdout",
     "output_type": "stream",
     "text": [
      "model params: 33217\n"
     ]
    }
   ],
   "source": [
    "model = SimpleModel(MASTER_CONFIG)\n",
    "optimizer = torch.optim.Adam(model.parameters())"
   ]
  },
  {
   "cell_type": "code",
   "execution_count": 19,
   "metadata": {
    "id": "p9zJyFdx9LGl"
   },
   "outputs": [],
   "source": [
    "def train(model, optimizer, scheduler = None, config = MASTER_CONFIG, print_logs = False):\n",
    "  losses = []\n",
    "  start_time = time.time()\n",
    "\n",
    "  for epoch in range(config['epochs']):\n",
    "    optimizer.zero_grad()\n",
    "\n",
    "    xs, ys = get_batches(\n",
    "      data = dataset,\n",
    "      split = 'train',\n",
    "      batch_size = MASTER_CONFIG['batch_size'],\n",
    "      context_window = MASTER_CONFIG['context_window']\n",
    "    )\n",
    "    logits, loss = model(xs, ys)\n",
    "\n",
    "    loss.backward()\n",
    "    optimizer.step()\n",
    "\n",
    "    if scheduler:\n",
    "      scheduler.step()\n",
    "\n",
    "    if epoch % config['log_interval'] == 0:\n",
    "      batch_time = time.time() - start_time\n",
    "      x = evaluate_loss(model)\n",
    "      losses += [x]\n",
    "\n",
    "      if print_logs:\n",
    "        print(f\"Epoch {epoch} | val loss {x['val']:.3f} | Time {batch_time:.3f} | ETA in seconds {batch_time * (config['epochs'] - epoch)/config['log_interval'] :.3f}\")\n",
    "      start_time = time.time()\n",
    "\n",
    "      if scheduler:\n",
    "        print(f'learning rate: {scheduler.get_lr()}')\n",
    "\n",
    "  print(f'validation loss: {losses[-1][\"val\"]}')\n",
    "  return pd.DataFrame(losses).plot()"
   ]
  },
  {
   "cell_type": "code",
   "execution_count": 20,
   "metadata": {
    "colab": {
     "base_uri": "https://localhost:8080/",
     "height": 467
    },
    "id": "wniNCTnC-LAt",
    "outputId": "23b9f4a2-57a8-4c3e-ed5f-cfb111228bba"
   },
   "outputs": [
    {
     "name": "stdout",
     "output_type": "stream",
     "text": [
      "validation loss: 3.942510652542114\n"
     ]
    },
    {
     "data": {
      "text/plain": [
       "<Axes: >"
      ]
     },
     "execution_count": 20,
     "metadata": {},
     "output_type": "execute_result"
    },
    {
     "data": {
      "image/png": "[encoded data removed]",
      "text/plain": [
       "<Figure size 640x480 with 1 Axes>"
      ]
     },
     "metadata": {},
     "output_type": "display_data"
    }
   ],
   "source": [
    "train(model, optimizer)"
   ]
  },
  {
   "cell_type": "code",
   "execution_count": 22,
   "metadata": {},
   "outputs": [],
   "source": [
    "class SimpleModelBetter(nn.Module):\n",
    "  def __init__(self, config):\n",
    "    super().__init__()\n",
    "    self.config = config\n",
    "\n",
    "    self.embedding = nn.Embedding(config['vocab_size'], config['d_model'])\n",
    "    self.linear = nn.Sequential(\n",
    "      # 1st layer\n",
    "      nn.Linear(config['d_model'], config['d_model']),\n",
    "      nn.ReLU(),\n",
    "\n",
    "      # 2nd layer\n",
    "      nn.Linear(config['d_model'], config['vocab_size']),\n",
    "    )\n",
    "\n",
    "    print(f'model params: {sum([m.numel() for m in self.parameters()])}')\n",
    "  \n",
    "  def forward(self, idx, targets = None):\n",
    "    x = self.embedding(idx)\n",
    "    logits = self.linear(x)\n",
    "\n",
    "    if targets is not None:\n",
    "      loss = F.cross_entropy(logits.view(-1, self.config['vocab_size']), targets.view(-1))\n",
    "      return logits, loss\n",
    "    else:\n",
    "      return logits"
   ]
  },
  {
   "cell_type": "code",
   "execution_count": 23,
   "metadata": {},
   "outputs": [
    {
     "name": "stdout",
     "output_type": "stream",
     "text": [
      "model params: 33217\n"
     ]
    }
   ],
   "source": [
    "model = SimpleModelBetter(MASTER_CONFIG)\n",
    "xs, ys = get_batches(\n",
    "  data = dataset,\n",
    "  split = 'train',\n",
    "  batch_size = MASTER_CONFIG['batch_size'],\n",
    "  context_window = MASTER_CONFIG['context_window']\n",
    ")"
   ]
  },
  {
   "cell_type": "code",
   "execution_count": 24,
   "metadata": {},
   "outputs": [
    {
     "name": "stdout",
     "output_type": "stream",
     "text": [
      "validation loss: 2.4837475538253786\n"
     ]
    },
    {
     "data": {
      "text/plain": [
       "<Axes: >"
      ]
     },
     "execution_count": 24,
     "metadata": {},
     "output_type": "execute_result"
    },
    {
     "data": {
      "image/png": "[encoded data removed]",
      "text/plain": [
       "<Figure size 640x480 with 1 Axes>"
      ]
     },
     "metadata": {},
     "output_type": "display_data"
    }
   ],
   "source": [
    "logits, loss = model(xs, ys)\n",
    "optimizer = torch.optim.Adam(model.parameters())\n",
    "train(model, optimizer)"
   ]
  },
  {
   "cell_type": "code",
   "execution_count": 25,
   "metadata": {},
   "outputs": [],
   "source": [
    "def generate(model, config = MASTER_CONFIG, max_new_tokens = 30):\n",
    "  idx = torch.zeros(5, 1).long()\n",
    "\n",
    "  for _ in range(max_new_tokens):\n",
    "    logits = model(idx[:, -config['context_window']:])\n",
    "    last_time_step_logits = logits[:, -1, :]  # all the batches (1), last time step, all the logits\n",
    "    p = F.softmax(last_time_step_logits, dim = -1)\n",
    "    idx_next = torch.multinomial(p, num_samples = 1)\n",
    "    idx = torch.cat([idx, idx_next], dim = -1)\n",
    "  \n",
    "  return [decode(x) for x in idx.tolist()]"
   ]
  },
  {
   "cell_type": "code",
   "execution_count": 26,
   "metadata": {},
   "outputs": [
    {
     "data": {
      "text/plain": [
       "['\\nSe meen d t he?\\nWAngatoliompen',\n",
       " \"\\nTO, me, be se! omp'shoy ROMI:\\n\",\n",
       " '\\nWhat wead! cest ig belo winimi',\n",
       " '\\nHEETher ldn.\\nRGINI h withaly-f',\n",
       " '\\nH r colo y at, wisichabed ef\\nL']"
      ]
     },
     "execution_count": 26,
     "metadata": {},
     "output_type": "execute_result"
    }
   ],
   "source": [
    "generate(model)"
   ]
  }
 ],
 "metadata": {
  "colab": {
   "provenance": []
  },
  "kernelspec": {
   "display_name": "Python 3",
   "name": "python3"
  },
  "language_info": {
   "codemirror_mode": {
    "name": "ipython",
    "version": 3
   },
   "file_extension": ".py",
   "mimetype": "text/x-python",
   "name": "python",
   "nbconvert_exporter": "python",
   "pygments_lexer": "ipython3",
   "version": "3.10.12"
  }
 },
 "nbformat": 4,
 "nbformat_minor": 0
}
