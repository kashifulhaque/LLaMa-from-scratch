{
  "nbformat": 4,
  "nbformat_minor": 0,
  "metadata": {
    "colab": {
      "provenance": []
    },
    "kernelspec": {
      "name": "python3",
      "display_name": "Python 3"
    },
    "language_info": {
      "name": "python"
    }
  },
  "cells": [
    {
      "cell_type": "markdown",
      "source": [
        "#### **Implement LLaMa from scratch**\n",
        "> Based on this [blog post](https://blog.briankitano.com/llama-from-scratch)"
      ],
      "metadata": {
        "id": "1xHdSd1W0gcR"
      }
    },
    {
      "cell_type": "code",
      "execution_count": 5,
      "metadata": {
        "id": "m_Z7khvk0csm"
      },
      "outputs": [],
      "source": [
        "import time\n",
        "\n",
        "import torch\n",
        "import numpy as np\n",
        "import pandas as pd\n",
        "import matplotlib.pyplot as plt\n",
        "\n",
        "from torch import nn\n",
        "from torch.nn import functional as F"
      ]
    },
    {
      "cell_type": "markdown",
      "source": [
        "**Load the dataset**\n",
        "> [TinyShakespeare](https://raw.githubusercontent.com/karpathy/char-rnn/master/data/tinyshakespeare/input.txt)"
      ],
      "metadata": {
        "id": "jwFfH7ys07kx"
      }
    },
    {
      "cell_type": "code",
      "source": [
        "dataset_url = 'https://raw.githubusercontent.com/karpathy/char-rnn/master/data/tinyshakespeare/input.txt'\n",
        "file_url = '/content/dataset.txt' # Download and place your file in colab\n",
        "\n",
        "lines = open(file_url, 'r').read()\n",
        "\n",
        "vocab = sorted(list(set(lines)))\n",
        "i2s = { i: ch for i, ch in enumerate(vocab) }\n",
        "s2i = { ch: i for i, ch in enumerate(vocab) }\n",
        "\n",
        "print(lines[:50])"
      ],
      "metadata": {
        "colab": {
          "base_uri": "https://localhost:8080/"
        },
        "id": "xtmQ85dd02HM",
        "outputId": "69a1befb-802c-41ef-8bcc-e854c3279ed6"
      },
      "execution_count": 6,
      "outputs": [
        {
          "output_type": "stream",
          "name": "stdout",
          "text": [
            "First Citizen:\n",
            "Before we proceed any further, hear\n"
          ]
        }
      ]
    },
    {
      "cell_type": "markdown",
      "source": [
        "In LLaMa, they use [SentencePiece](https://github.com/google/sentencepiece) byte-pair tokenizer, a simple tokenizer 👇"
      ],
      "metadata": {
        "id": "tshD9AZN1mZm"
      }
    },
    {
      "cell_type": "code",
      "source": [
        "def encode(s):\n",
        "  return [ s2i[ch] for ch in s ]"
      ],
      "metadata": {
        "id": "_DauIE9T1wLh"
      },
      "execution_count": 7,
      "outputs": []
    },
    {
      "cell_type": "code",
      "source": [
        "def decode(l):\n",
        "  return ''.join([ i2s[i] for i in l ])"
      ],
      "metadata": {
        "id": "Y6QAN2Rx2LxY"
      },
      "execution_count": 8,
      "outputs": []
    },
    {
      "cell_type": "code",
      "source": [
        "print(f'vocab size: {len(vocab)}')"
      ],
      "metadata": {
        "colab": {
          "base_uri": "https://localhost:8080/"
        },
        "id": "31VugpID2RbX",
        "outputId": "33f02051-dbe4-4ce7-e061-af63e87e369d"
      },
      "execution_count": 9,
      "outputs": [
        {
          "output_type": "stream",
          "name": "stdout",
          "text": [
            "vocab size: 65\n"
          ]
        }
      ]
    },
    {
      "cell_type": "code",
      "source": [
        "encode('hello')"
      ],
      "metadata": {
        "colab": {
          "base_uri": "https://localhost:8080/"
        },
        "id": "bnnq92tW2V6u",
        "outputId": "f23c2a05-b25e-4b41-85dc-0af097a8e112"
      },
      "execution_count": 10,
      "outputs": [
        {
          "output_type": "execute_result",
          "data": {
            "text/plain": [
              "[46, 43, 50, 50, 53]"
            ]
          },
          "metadata": {},
          "execution_count": 10
        }
      ]
    },
    {
      "cell_type": "code",
      "source": [
        "decode([46, 43, 50, 50, 53])"
      ],
      "metadata": {
        "colab": {
          "base_uri": "https://localhost:8080/",
          "height": 36
        },
        "id": "hX1nUD502W0m",
        "outputId": "ce223e0a-56f3-44f7-a1ba-c15e988d54da"
      },
      "execution_count": 11,
      "outputs": [
        {
          "output_type": "execute_result",
          "data": {
            "text/plain": [
              "'hello'"
            ],
            "application/vnd.google.colaboratory.intrinsic+json": {
              "type": "string"
            }
          },
          "metadata": {},
          "execution_count": 11
        }
      ]
    },
    {
      "cell_type": "markdown",
      "source": [
        "**A `config` object to remove magic numbers and store constants, model params**"
      ],
      "metadata": {
        "id": "QTio67nX2gag"
      }
    },
    {
      "cell_type": "code",
      "source": [
        "MASTER_CONFIG = {\n",
        "    'vocab_size': len(vocab)\n",
        "}"
      ],
      "metadata": {
        "id": "Gza2tRah2jwa"
      },
      "execution_count": 12,
      "outputs": []
    },
    {
      "cell_type": "code",
      "source": [
        "dataset = torch.tensor(encode(lines), dtype = torch.int8)\n",
        "dataset.shape"
      ],
      "metadata": {
        "colab": {
          "base_uri": "https://localhost:8080/"
        },
        "id": "DUPIz5bM24tG",
        "outputId": "442b61c5-5d78-40b1-a803-c2d4ffdcd320"
      },
      "execution_count": 13,
      "outputs": [
        {
          "output_type": "execute_result",
          "data": {
            "text/plain": [
              "torch.Size([1115393])"
            ]
          },
          "metadata": {},
          "execution_count": 13
        }
      ]
    },
    {
      "cell_type": "markdown",
      "source": [
        "**Make a function to generate training data and labels for batches**"
      ],
      "metadata": {
        "id": "g2_obzFd3H_r"
      }
    },
    {
      "cell_type": "code",
      "source": [
        "def get_batches(data, split, batch_size, context_window, config = MASTER_CONFIG):\n",
        "  train = data[:int(.8 * len(data))]                      # take first 80% of the data as training set\n",
        "  val = data[int(.8 * len(data)) : int(.9 * len(data))]   # take the next 10% of data as validation set\n",
        "  test = data[int(.9 * len(data)):]                       # take the last 10% of data as testing set\n",
        "\n",
        "  batch_data = train\n",
        "  if split == 'val':\n",
        "    batch_data = val\n",
        "  if split == 'test':\n",
        "    batch_data = test\n",
        "\n",
        "  # pick random starting points\n",
        "  ix = torch.randint(0, batch_data.size(0) - context_window - 1, (batch_size,))\n",
        "  x = torch.stack([batch_data[i : i + context_window] for i in ix]).long()\n",
        "  y = torch.stack([batch_data[i + 1 : i + context_window + 1] for i in ix]).long()\n",
        "\n",
        "  return x, y"
      ],
      "metadata": {
        "id": "Ovn9Wwwu3x-s"
      },
      "execution_count": 14,
      "outputs": []
    },
    {
      "cell_type": "code",
      "source": [
        "MASTER_CONFIG.update({\n",
        "  'batch_size': 8,\n",
        "  'context_window': 16\n",
        "})"
      ],
      "metadata": {
        "id": "fWx_CNKU4-8L"
      },
      "execution_count": 15,
      "outputs": []
    },
    {
      "cell_type": "code",
      "source": [
        "xs, ys = get_batches(\n",
        "  data = dataset,\n",
        "  split = 'train',\n",
        "  batch_size = MASTER_CONFIG['batch_size'],\n",
        "  context_window = MASTER_CONFIG['context_window']\n",
        ")\n",
        "\n",
        "[ (decode(xs[i].tolist()), decode(ys[i].tolist())) for i in range(len(xs)) ]"
      ],
      "metadata": {
        "colab": {
          "base_uri": "https://localhost:8080/"
        },
        "id": "D8epDXnX5KBy",
        "outputId": "37fc953c-35c3-4658-abd5-ad72c362ba9b"
      },
      "execution_count": 17,
      "outputs": [
        {
          "output_type": "execute_result",
          "data": {
            "text/plain": [
              "[('sworn Aumerle;\\nA', 'worn Aumerle;\\nAn'),\n",
              " ('his leave.\\n\\nKING', 'is leave.\\n\\nKING '),\n",
              " ('oler:\\nSo please ', 'ler:\\nSo please y'),\n",
              " ('tor.\\n\\nMONTAGUE:\\n', 'or.\\n\\nMONTAGUE:\\nB'),\n",
              " ('black, and tragi', 'lack, and tragic'),\n",
              " ('O just but sever', ' just but severe'),\n",
              " ('morrow; to-day; ', 'orrow; to-day; p'),\n",
              " (' queen of Englan', 'queen of England')]"
            ]
          },
          "metadata": {},
          "execution_count": 17
        }
      ]
    },
    {
      "cell_type": "markdown",
      "source": [
        "**Evaluation**"
      ],
      "metadata": {
        "id": "BZHRqai66a7e"
      }
    },
    {
      "cell_type": "code",
      "source": [
        "@torch.no_grad()\n",
        "def evaluate_loss(model, config = MASTER_CONFIG):\n",
        "  out = {}\n",
        "  model.eval()\n",
        "\n",
        "  for split in ['train', 'val']:\n",
        "    losses = []\n",
        "\n",
        "    for _ in range(10):\n",
        "      xb, yb = get_batches(\n",
        "        data = dataset,\n",
        "        split = split,\n",
        "        batch_size = config['batch_size'],\n",
        "        context_window = config['context_window']\n",
        "      )\n",
        "      _, loss = model(xb, yb)\n",
        "      losses.append(loss.item())\n",
        "\n",
        "    out[split] = np.mean(losses)\n",
        "\n",
        "  model.train()\n",
        "  return out"
      ],
      "metadata": {
        "id": "-9tT4b6e5h6b"
      },
      "execution_count": 18,
      "outputs": []
    },
    {
      "cell_type": "markdown",
      "source": [
        "#### **Setup a base model**\n",
        "\n",
        "In the `cross_entropy` loss line, we have to reshape the `logits` and `targets` so that their dimensions match when we compare. \\\\\n",
        "We do this using the `view` method, and the `-1` means \"infer this dimension from others\". \\\\\n",
        "\n",
        "So, reshape `logits` and `targets` to have the same number of rows and however many columns that are needed to make that happen."
      ],
      "metadata": {
        "id": "GHGuELzh7Coy"
      }
    },
    {
      "cell_type": "code",
      "source": [
        "class SimpleModel(nn.Module):\n",
        "  def __init__(self, config = MASTER_CONFIG):\n",
        "    super().__init__()\n",
        "    self.config = config\n",
        "\n",
        "    self.embedding = nn.Embedding(config['vocab_size'], config['d_model'])\n",
        "    self.linear = nn.Sequential(\n",
        "      nn.Linear(config['d_model'], config['d_model']),\n",
        "      nn.ReLU(),\n",
        "\n",
        "      nn.Linear(config['d_model'], config['vocab_size'])\n",
        "    )\n",
        "    print(f'model params: {sum([m.numel() for m in self.parameters()])}')\n",
        "\n",
        "  def forward(self, idx, targets = None):\n",
        "    x = self.embedding(idx)\n",
        "    a = self.linear(x)\n",
        "    logits = F.softmax(a, dim = -1)\n",
        "\n",
        "    if targets is not None:\n",
        "      loss = F.cross_entropy(logits.view(-1, self.config['vocab_size']), targets.view(-1))\n",
        "      return logits, loss\n",
        "    else:\n",
        "      return logits"
      ],
      "metadata": {
        "id": "4uOXanPt7BZ9"
      },
      "execution_count": 19,
      "outputs": []
    },
    {
      "cell_type": "code",
      "source": [
        "MASTER_CONFIG.update({\n",
        "  'd_model': 128\n",
        "})"
      ],
      "metadata": {
        "id": "2FweSlaa77T5"
      },
      "execution_count": 20,
      "outputs": []
    },
    {
      "cell_type": "code",
      "source": [
        "model = SimpleModel(MASTER_CONFIG)\n",
        "xs, ys = get_batches(\n",
        "  data = dataset,\n",
        "  split = 'train',\n",
        "  batch_size = MASTER_CONFIG['batch_size'],\n",
        "  context_window = MASTER_CONFIG['context_window']\n",
        ")\n",
        "\n",
        "logits, loss = model(xs, ys)"
      ],
      "metadata": {
        "colab": {
          "base_uri": "https://localhost:8080/"
        },
        "id": "0T_ssTNp79oL",
        "outputId": "bddb8752-8aa8-40db-abb8-44b0bfe31937"
      },
      "execution_count": 21,
      "outputs": [
        {
          "output_type": "stream",
          "name": "stdout",
          "text": [
            "model params: 33217\n"
          ]
        }
      ]
    },
    {
      "cell_type": "markdown",
      "source": [
        "**Train the model**"
      ],
      "metadata": {
        "id": "-TNUIxVw85mD"
      }
    },
    {
      "cell_type": "code",
      "source": [
        "MASTER_CONFIG.update({\n",
        "  'epochs': 1_000,\n",
        "  'log_interval': 10,\n",
        "  'batch_size': 32\n",
        "})"
      ],
      "metadata": {
        "id": "-i6RWTn_8TnO"
      },
      "execution_count": 22,
      "outputs": []
    },
    {
      "cell_type": "code",
      "source": [
        "model = SimpleModel(MASTER_CONFIG)\n",
        "optimizer = torch.optim.Adam(model.parameters())"
      ],
      "metadata": {
        "colab": {
          "base_uri": "https://localhost:8080/"
        },
        "id": "hY75mYvR9Aul",
        "outputId": "1dc27431-1a10-4713-e823-f272fd9db488"
      },
      "execution_count": 23,
      "outputs": [
        {
          "output_type": "stream",
          "name": "stdout",
          "text": [
            "model params: 33217\n"
          ]
        }
      ]
    },
    {
      "cell_type": "code",
      "source": [
        "def train(model, optimizer, scheduler = None, config = MASTER_CONFIG, print_logs = False):\n",
        "  losses = []\n",
        "  start_time = time.time()\n",
        "\n",
        "  for epoch in range(config['epochs']):\n",
        "    optimizer.zero_grad()\n",
        "\n",
        "    xs, ys = get_batches(\n",
        "      data = dataset,\n",
        "      split = 'train',\n",
        "      batch_size = MASTER_CONFIG['batch_size'],\n",
        "      context_window = MASTER_CONFIG['context_window']\n",
        "    )\n",
        "    logits, loss = model(xs, ys)\n",
        "\n",
        "    loss.backward()\n",
        "    optimizer.step()\n",
        "\n",
        "    if scheduler:\n",
        "      scheduler.step()\n",
        "\n",
        "    if epoch % config['log_interval'] == 0:\n",
        "      batch_time = time.time() - start_time\n",
        "      x = evaluate_loss(model)\n",
        "      losses += [x]\n",
        "\n",
        "      if print_logs:\n",
        "        print(f\"Epoch {epoch} | val loss {x['val']:.3f} | Time {batch_time:.3f} | ETA in seconds {batch_time * (config['epochs'] - epoch)/config['log_interval'] :.3f}\")\n",
        "      start_time = time.time()\n",
        "\n",
        "      if scheduler:\n",
        "        print(f'learning rate: {scheduler.get_lr()}')\n",
        "\n",
        "  print(f'validation loss: {losses[-1][\"val\"]}')\n",
        "  return pd.DataFrame(losses).plot()"
      ],
      "metadata": {
        "id": "p9zJyFdx9LGl"
      },
      "execution_count": 24,
      "outputs": []
    },
    {
      "cell_type": "code",
      "source": [
        "train(model, optimizer)"
      ],
      "metadata": {
        "colab": {
          "base_uri": "https://localhost:8080/",
          "height": 467
        },
        "id": "wniNCTnC-LAt",
        "outputId": "23b9f4a2-57a8-4c3e-ed5f-cfb111228bba"
      },
      "execution_count": 25,
      "outputs": [
        {
          "output_type": "stream",
          "name": "stdout",
          "text": [
            "validation loss: 3.949760103225708\n"
          ]
        },
        {
          "output_type": "execute_result",
          "data": {
            "text/plain": [
              "<Axes: >"
            ]
          },
          "metadata": {},
          "execution_count": 25
        },
        {
          "output_type": "display_data",
          "data": {
            "text/plain": [
              "<Figure size 640x480 with 1 Axes>"
            ],
            "image/png": "[encoded data removed]"
          },
          "metadata": {}
        }
      ]
    },
    {
      "cell_type": "markdown",
      "source": [
        "Continue from [here](https://blog.briankitano.com/llama-from-scratch/#:~:text=Notice%20how%20we%20get%20a%20training%20curve%20that%20goes%20down)"
      ],
      "metadata": {
        "id": "AOJm-R0y-nnc"
      }
    }
  ]
}